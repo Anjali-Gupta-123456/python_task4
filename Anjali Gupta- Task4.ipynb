{
 "cells": [
  {
   "cell_type": "markdown",
   "id": "d22aa19c-e049-4c44-89f3-ea49c078ecbc",
   "metadata": {},
   "source": [
    "# Dictionary Methods\n"
   ]
  },
  {
   "cell_type": "markdown",
   "id": "f47e5539-68f2-4441-896e-96d15c22a072",
   "metadata": {},
   "source": [
    "# 1) Clear\n",
    "Removes all the elements from the dictionary\r\n",
    "\n",
    "https://www.w3schools.com/python/python_ref_dictionary.asp"
   ]
  },
  {
   "cell_type": "code",
   "execution_count": 21,
   "id": "35fcaed4-219a-4202-adc3-51033846e8de",
   "metadata": {},
   "outputs": [],
   "source": [
    "Dict1 = {\n",
    "    \"brand\":\"hero\",\n",
    "    \"model\":\"splender\",\n",
    "    \"year\":\"2022\"\n",
    "}"
   ]
  },
  {
   "cell_type": "code",
   "execution_count": 23,
   "id": "a35453f2-f54b-47ba-acd2-9416be2e2d4b",
   "metadata": {},
   "outputs": [],
   "source": [
    "Dict1.clear()"
   ]
  },
  {
   "cell_type": "code",
   "execution_count": 25,
   "id": "411bbc48-424e-48d4-93ba-304f7aa84691",
   "metadata": {},
   "outputs": [
    {
     "data": {
      "text/plain": [
       "{}"
      ]
     },
     "execution_count": 25,
     "metadata": {},
     "output_type": "execute_result"
    }
   ],
   "source": [
    "Dict1"
   ]
  },
  {
   "cell_type": "markdown",
   "id": "82664710-1f38-4fa6-a21c-55d03ebdee1f",
   "metadata": {},
   "source": [
    "# 2) Copy\n",
    "Returns a copy of the dictionary\n",
    "\n",
    "https://www.w3schools.com/python/python_ref_dictionary.asp"
   ]
  },
  {
   "cell_type": "code",
   "execution_count": 29,
   "id": "3658ec33-f949-41ec-9ada-75b4718a4962",
   "metadata": {},
   "outputs": [],
   "source": [
    "Dict2 = {\n",
    "    \"brand\":\"hero\",\n",
    "    \"model\":\"splender\",\n",
    "    \"year\":\"2022\"\n",
    "}"
   ]
  },
  {
   "cell_type": "code",
   "execution_count": 31,
   "id": "241d8892-29d1-4585-8b94-2a3fbd0cbb83",
   "metadata": {},
   "outputs": [
    {
     "data": {
      "text/plain": [
       "{'brand': 'hero', 'model': 'splender', 'year': '2022'}"
      ]
     },
     "execution_count": 31,
     "metadata": {},
     "output_type": "execute_result"
    }
   ],
   "source": [
    "Dict2.copy()"
   ]
  },
  {
   "cell_type": "markdown",
   "id": "187eda7e-61e8-4793-888d-5d27b7ee5da6",
   "metadata": {},
   "source": [
    "# 3) keys\n",
    "Returns a dictionary with the specified keys and value\n",
    "\n",
    "https://www.w3schools.com/python/python_ref_dictionary.asp\n"
   ]
  },
  {
   "cell_type": "code",
   "execution_count": 34,
   "id": "e047bc21-0985-4c3e-b6c5-b12f3e439d9a",
   "metadata": {},
   "outputs": [],
   "source": [
    "Dict3 = {\n",
    "    \"Employee\" : \"Anita\",\n",
    "    \"Job Profile\" : \"Data Scientist\",\n",
    "    \"Level\" : \"L6\",\n",
    "    \"Performance\" : \"Excellent\"\n",
    "}"
   ]
  },
  {
   "cell_type": "code",
   "execution_count": 38,
   "id": "ed6eb7d7-dbf0-4fac-a11f-190b54d51689",
   "metadata": {},
   "outputs": [
    {
     "data": {
      "text/plain": [
       "dict_keys(['Employee', 'Job Profile', 'Level', 'Performance'])"
      ]
     },
     "execution_count": 38,
     "metadata": {},
     "output_type": "execute_result"
    }
   ],
   "source": [
    "Dict3.keys()"
   ]
  },
  {
   "cell_type": "markdown",
   "id": "99c2fbef-74b6-4f12-9d6e-bd5dbc8e5411",
   "metadata": {},
   "source": [
    "# 4) Get\n",
    "Returns the value of the specified key\n",
    "\n",
    "https://www.w3schools.com/python/python_ref_dictionary.asp\n"
   ]
  },
  {
   "cell_type": "code",
   "execution_count": 45,
   "id": "74ca768d-0acd-4d03-80f1-95df14b479ad",
   "metadata": {},
   "outputs": [],
   "source": [
    "Dict4 = Dict4 = {\n",
    "    \"Employee\" : \"Vikram\",\n",
    "    \"Job Profile\" : \"Backend Developer\",\n",
    "    \"Level\" : \"L5\",\n",
    "    \"Performance\" : \"Good\"\n",
    "}\n"
   ]
  },
  {
   "cell_type": "code",
   "execution_count": 49,
   "id": "3465c05a-8d6e-4488-b51a-65a8dc240944",
   "metadata": {},
   "outputs": [
    {
     "data": {
      "text/plain": [
       "'L5'"
      ]
     },
     "execution_count": 49,
     "metadata": {},
     "output_type": "execute_result"
    }
   ],
   "source": [
    "Dict4.get('Level')"
   ]
  },
  {
   "cell_type": "markdown",
   "id": "cc3d991c-d882-45ae-8790-868fe39480ee",
   "metadata": {},
   "source": [
    "# 5) Items\n",
    "\n",
    "Returns a list containing a tuple for each key value pair\n",
    "\n",
    "https://www.w3schools.com/python/python_ref_dictionary.asp\n"
   ]
  },
  {
   "cell_type": "code",
   "execution_count": 52,
   "id": "4caf38b9-a914-4d2e-8bcd-db22df711ab3",
   "metadata": {},
   "outputs": [],
   "source": [
    "Dict5 = {\n",
    "    \"brand\":\"hero\",\n",
    "    \"model\":\"splender\",\n",
    "    \"year\":\"2022\"\n",
    "}"
   ]
  },
  {
   "cell_type": "code",
   "execution_count": 54,
   "id": "4a02f6c4-36d2-4e71-91d3-5d3665b6c911",
   "metadata": {},
   "outputs": [
    {
     "data": {
      "text/plain": [
       "dict_items([('brand', 'hero'), ('model', 'splender'), ('year', '2022')])"
      ]
     },
     "execution_count": 54,
     "metadata": {},
     "output_type": "execute_result"
    }
   ],
   "source": [
    "Dict5.items()"
   ]
  },
  {
   "cell_type": "markdown",
   "id": "52eed01a-18f7-460a-88df-2905a78046bb",
   "metadata": {},
   "source": [
    "# 6) Pop\n",
    "Removes the element with the specified key\n",
    "\n",
    "https://www.w3schools.com/python/python_ref_dictionary.asp\n"
   ]
  },
  {
   "cell_type": "code",
   "execution_count": 58,
   "id": "96f18ae9-9d16-48a8-a6eb-34e3ef7df89e",
   "metadata": {},
   "outputs": [],
   "source": [
    "Dict6 = {\n",
    "    \"college\":\"ambedkar\",\n",
    "    \"rating\":\"1\",\n",
    "    \"stream\":\"commerce\",\n",
    "    \"address\":\"sadar\",\n",
    "    \"hostel\":\"yes\"\n",
    "}\n",
    "    "
   ]
  },
  {
   "cell_type": "code",
   "execution_count": 64,
   "id": "2d8bd253-5cf8-4eb9-8301-2a7ac338d91e",
   "metadata": {},
   "outputs": [
    {
     "data": {
      "text/plain": [
       "'ambedkar'"
      ]
     },
     "execution_count": 64,
     "metadata": {},
     "output_type": "execute_result"
    }
   ],
   "source": [
    "Dict6.pop('college')"
   ]
  },
  {
   "cell_type": "code",
   "execution_count": 66,
   "id": "929b33e2-e5b4-4659-882f-603384462c1b",
   "metadata": {},
   "outputs": [
    {
     "data": {
      "text/plain": [
       "{'rating': '1', 'stream': 'commerce', 'address': 'sadar', 'hostel': 'yes'}"
      ]
     },
     "execution_count": 66,
     "metadata": {},
     "output_type": "execute_result"
    }
   ],
   "source": [
    "Dict6"
   ]
  },
  {
   "cell_type": "markdown",
   "id": "10834d63-62d2-4044-874a-50eb4c931b67",
   "metadata": {},
   "source": [
    "# 7) Update\n",
    "\n",
    "Updates the dictionary with the specified key-value pairs\n",
    "\n",
    "https://www.w3schools.com/python/python_ref_dictionary.asp"
   ]
  },
  {
   "cell_type": "code",
   "execution_count": 80,
   "id": "4dc70b4b-d3ac-439d-9f27-01621cafbd6d",
   "metadata": {},
   "outputs": [],
   "source": [
    "Dict7 = {\n",
    "    \"book\":\"the_secret\",\n",
    "    \"year\":\"2006\",\n",
    "    \"author\":\"rhonda_byrne\",\n",
    "    \"language\":\"english\" \n",
    "}"
   ]
  },
  {
   "cell_type": "code",
   "execution_count": 84,
   "id": "7a612a34-eb51-4c0b-9162-409cdc3fbf8c",
   "metadata": {},
   "outputs": [],
   "source": [
    "Dict7.update({\"pages\":\"198\"})"
   ]
  },
  {
   "cell_type": "code",
   "execution_count": 86,
   "id": "c99a17c6-8781-4dae-a3d2-ff1c7042dddd",
   "metadata": {},
   "outputs": [
    {
     "data": {
      "text/plain": [
       "{'book': 'the_secret',\n",
       " 'year': '2006',\n",
       " 'author': 'rhonda_byrne',\n",
       " 'language': 'english',\n",
       " 'pages': '198'}"
      ]
     },
     "execution_count": 86,
     "metadata": {},
     "output_type": "execute_result"
    }
   ],
   "source": [
    "Dict7"
   ]
  },
  {
   "cell_type": "markdown",
   "id": "8f85a22d-e6cb-45f5-9b9e-7b94a2ab656a",
   "metadata": {},
   "source": [
    "# 8) values\n",
    "\n",
    "Returns a list of all the values in the dictionary\n",
    "\n",
    "https://www.w3schools.com/python/python_ref_dictionary.asp\n"
   ]
  },
  {
   "cell_type": "code",
   "execution_count": 89,
   "id": "8a79a52e-ab8f-43b3-9466-eae089cf0b6b",
   "metadata": {},
   "outputs": [],
   "source": [
    "Dict8 = {\n",
    "    \"Employee\" : \"Anita\",\n",
    "    \"Job Profile\" : \"Data Scientist\",\n",
    "    \"Level\" : \"L6\",\n",
    "    \"Performance\" : \"Excellent\"\n",
    "}"
   ]
  },
  {
   "cell_type": "code",
   "execution_count": 91,
   "id": "6b9d0b4e-1a2c-4e57-8095-5017ca3b35c6",
   "metadata": {},
   "outputs": [
    {
     "data": {
      "text/plain": [
       "dict_values(['Anita', 'Data Scientist', 'L6', 'Excellent'])"
      ]
     },
     "execution_count": 91,
     "metadata": {},
     "output_type": "execute_result"
    }
   ],
   "source": [
    "Dict8.values()"
   ]
  },
  {
   "cell_type": "markdown",
   "id": "dfee2cc5-367d-437e-924c-9c5efcc2f84f",
   "metadata": {},
   "source": [
    "# if/else examples"
   ]
  },
  {
   "cell_type": "code",
   "execution_count": 112,
   "id": "67991fcd-ef19-4ef8-ba00-07dcfb7d563a",
   "metadata": {},
   "outputs": [
    {
     "name": "stdout",
     "output_type": "stream",
     "text": [
      "Not Positive\n"
     ]
    }
   ],
   "source": [
    " number = 5\n",
    "if number > 8:\n",
    "    print(\"Positive\")\n",
    "else:\n",
    "    print(\"Not Positive\")"
   ]
  },
  {
   "cell_type": "code",
   "execution_count": 102,
   "id": "5ab5fb85-ec85-4f1a-ba2e-0cf80fcab787",
   "metadata": {},
   "outputs": [
    {
     "name": "stdout",
     "output_type": "stream",
     "text": [
      "Even\n"
     ]
    }
   ],
   "source": [
    "number = 4\n",
    "if number % 2 == 0:\n",
    "    print(\"Even\")\n",
    "else:\n",
    "    print(\"Odd\")\n"
   ]
  },
  {
   "cell_type": "code",
   "execution_count": 106,
   "id": "50f92233-ea71-401f-bfcb-01fdc223c02d",
   "metadata": {},
   "outputs": [
    {
     "name": "stdout",
     "output_type": "stream",
     "text": [
      "Minor\n"
     ]
    }
   ],
   "source": [
    "age = 20\n",
    "if age >= 25:\n",
    "    print(\"Adult\")\n",
    "else:\n",
    "    print(\"Minor\")\n"
   ]
  },
  {
   "cell_type": "code",
   "execution_count": 108,
   "id": "775388df-f7ea-4678-8a86-d4a466248301",
   "metadata": {},
   "outputs": [
    {
     "name": "stdout",
     "output_type": "stream",
     "text": [
      "Zero\n"
     ]
    }
   ],
   "source": [
    "number = 0\n",
    "if number == 0:\n",
    "    print(\"Zero\")\n",
    "else:\n",
    "    print(\"Non-zero\")\n"
   ]
  },
  {
   "cell_type": "code",
   "execution_count": 110,
   "id": "89dbc400-19c9-4131-b715-fa577c9f2f22",
   "metadata": {},
   "outputs": [
    {
     "name": "stdout",
     "output_type": "stream",
     "text": [
      "Empty\n"
     ]
    }
   ],
   "source": [
    "text = \"\"\n",
    "if text == \"\":\n",
    "    print(\"Empty\")\n",
    "else:\n",
    "    print(\"Not Empty\")\n"
   ]
  },
  {
   "cell_type": "code",
   "execution_count": 114,
   "id": "3d8cc2f2-aadd-40b7-a114-a5dfbb3fe36e",
   "metadata": {},
   "outputs": [
    {
     "name": "stdout",
     "output_type": "stream",
     "text": [
      "Negative\n"
     ]
    }
   ],
   "source": [
    "number = -3\n",
    "if number < 0:\n",
    "    print(\"Negative\")\n",
    "else:\n",
    "    print(\"Non-negative\")\n"
   ]
  },
  {
   "cell_type": "code",
   "execution_count": 122,
   "id": "fa447e4f-8f3c-4b10-9e3c-78d483f4e082",
   "metadata": {},
   "outputs": [
    {
     "name": "stdout",
     "output_type": "stream",
     "text": [
      "Out of range\n"
     ]
    }
   ],
   "source": [
    "number = 19\n",
    "if 1 <= number <= 15:\n",
    "    print(\"In range\")\n",
    "else:\n",
    "    print(\"Out of range\")\n"
   ]
  },
  {
   "cell_type": "code",
   "execution_count": 126,
   "id": "fc43f477-da5b-46eb-b1b4-c416bc80d977",
   "metadata": {},
   "outputs": [
    {
     "name": "stdout",
     "output_type": "stream",
     "text": [
      "Consonant\n"
     ]
    }
   ],
   "source": [
    "char = 'm'\n",
    "if char in 'aeiou':\n",
    "    print(\"Vowel\")\n",
    "else:\n",
    "    print(\"Consonant\")"
   ]
  },
  {
   "cell_type": "code",
   "execution_count": 130,
   "id": "3161f184-f8fc-4171-aeca-6d51e383c47c",
   "metadata": {},
   "outputs": [
    {
     "name": "stdout",
     "output_type": "stream",
     "text": [
      "Eligible to vote\n"
     ]
    }
   ],
   "source": [
    "age = 19\n",
    "if age >= 18:\n",
    "    print(\"Eligible to vote\")\n",
    "else:\n",
    "    print(\"Not eligible to vote\")\n"
   ]
  },
  {
   "cell_type": "code",
   "execution_count": 132,
   "id": "615dfd03-c3a4-4a4d-bc04-746c84ad1de3",
   "metadata": {},
   "outputs": [
    {
     "name": "stdout",
     "output_type": "stream",
     "text": [
      "Contains 'e'\n"
     ]
    }
   ],
   "source": [
    "text = \"hello\"\n",
    "if 'e' in text:\n",
    "    print(\"Contains 'e'\")\n",
    "else:\n",
    "    print(\"Does not contain 'e'\")\n"
   ]
  },
  {
   "cell_type": "code",
   "execution_count": null,
   "id": "0daa3395-50fd-4019-a024-d357db0ddf67",
   "metadata": {},
   "outputs": [],
   "source": []
  }
 ],
 "metadata": {
  "kernelspec": {
   "display_name": "Python 3 (ipykernel)",
   "language": "python",
   "name": "python3"
  },
  "language_info": {
   "codemirror_mode": {
    "name": "ipython",
    "version": 3
   },
   "file_extension": ".py",
   "mimetype": "text/x-python",
   "name": "python",
   "nbconvert_exporter": "python",
   "pygments_lexer": "ipython3",
   "version": "3.12.4"
  }
 },
 "nbformat": 4,
 "nbformat_minor": 5
}
